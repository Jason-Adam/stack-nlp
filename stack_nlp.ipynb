{
 "cells": [
  {
   "cell_type": "markdown",
   "metadata": {},
   "source": [
    "# StackOverflow NLP Analysis  \n",
    "\n",
    "# Imports"
   ]
  },
  {
   "cell_type": "code",
   "execution_count": 187,
   "metadata": {},
   "outputs": [],
   "source": [
    "import os\n",
    "import re\n",
    "import string\n",
    "\n",
    "from nltk.tokenize import word_tokenize\n",
    "from nltk.corpus import stopwords\n",
    "import numpy as np\n",
    "\n",
    "import pandas as pd\n",
    "import pymongo\n",
    "\n",
    "from sklearn.ensemble import RandomForestClassifier\n",
    "from sklearn.feature_extraction.text import TfidfVectorizer\n",
    "from sklearn import metrics\n",
    "from sklearn.model_selection import train_test_split\n",
    "from yellowbrick.classifier import ClassificationReport, ConfusionMatrix\n",
    "\n",
    "from gensim.models.doc2vec import Doc2Vec, TaggedDocument"
   ]
  },
  {
   "cell_type": "code",
   "execution_count": 153,
   "metadata": {},
   "outputs": [],
   "source": [
    "# Global Variables\n",
    "COLLECTIONS = [\n",
    "    \"ai_questions\",\n",
    "    \"ml_questions\",\n",
    "    \"nlp_questions\",\n",
    "]\n",
    "MAX_NGRAM_LENGTH = 1\n",
    "VECTOR_LENGTH = 2000\n",
    "SET_RANDOM = 42 "
   ]
  },
  {
   "cell_type": "markdown",
   "metadata": {},
   "source": [
    "# Data Ingest"
   ]
  },
  {
   "cell_type": "code",
   "execution_count": 34,
   "metadata": {},
   "outputs": [],
   "source": [
    "# Retrieve questions from MongoDB\n",
    "def get_question_txt(collection: str) -> list:\n",
    "    client = pymongo.MongoClient(host=\"localhost\", port=27017)\n",
    "    db = client[\"stackoverflow\"]\n",
    "    ai = pymongo.collection.Collection(database=db, name=collection)\n",
    "    cursor = ai.find({})\n",
    "    return [(collection, i[\"url\"], i[\"title\"], i[\"question\"]) for i in cursor]\n",
    "\n",
    "\n",
    "# Write corpus to pandas df\n",
    "def convert_corpus(collection: list) -> dict:\n",
    "    corp = {\n",
    "        \"so_tag\": [],\n",
    "        \"title\": [],\n",
    "        \"url\": [],\n",
    "        \"question\": [],\n",
    "    }\n",
    "    \n",
    "    for c in collection:\n",
    "        docs = get_question_txt(c)\n",
    "        for q in docs:\n",
    "            corp[\"so_tag\"].append(q[0])\n",
    "            corp[\"url\"].append(q[1])\n",
    "            corp[\"title\"].append(q[2])\n",
    "            corp[\"question\"].append(q[3])\n",
    "            \n",
    "    return pd.DataFrame(corp)"
   ]
  },
  {
   "cell_type": "code",
   "execution_count": 96,
   "metadata": {},
   "outputs": [
    {
     "data": {
      "text/plain": [
       "(1494, 4)"
      ]
     },
     "execution_count": 96,
     "metadata": {},
     "output_type": "execute_result"
    }
   ],
   "source": [
    "cdf = convert_corpus(collections)\n",
    "cdf.shape"
   ]
  },
  {
   "cell_type": "markdown",
   "metadata": {},
   "source": [
    "Some questions have multiple tags which resulted in duplicate questions in the corpus. I've dropped these questions (roughly 46 questions equalling 92 rows). This ensures that I have 3 independent samples based on the question tag on StackOverflow."
   ]
  },
  {
   "cell_type": "code",
   "execution_count": 98,
   "metadata": {},
   "outputs": [
    {
     "data": {
      "text/html": [
       "<div>\n",
       "<style scoped>\n",
       "    .dataframe tbody tr th:only-of-type {\n",
       "        vertical-align: middle;\n",
       "    }\n",
       "\n",
       "    .dataframe tbody tr th {\n",
       "        vertical-align: top;\n",
       "    }\n",
       "\n",
       "    .dataframe thead th {\n",
       "        text-align: right;\n",
       "    }\n",
       "</style>\n",
       "<table border=\"1\" class=\"dataframe\">\n",
       "  <thead>\n",
       "    <tr style=\"text-align: right;\">\n",
       "      <th></th>\n",
       "      <th>so_tag</th>\n",
       "      <th>title</th>\n",
       "      <th>url</th>\n",
       "      <th>question</th>\n",
       "    </tr>\n",
       "  </thead>\n",
       "  <tbody>\n",
       "    <tr>\n",
       "      <th>0</th>\n",
       "      <td>ai_questions</td>\n",
       "      <td>What is the optimal algorithm for the game 2048?</td>\n",
       "      <td>/questions/22342854/what-is-the-optimal-algori...</td>\n",
       "      <td>I have recently stumbled upon the game 2048. Y...</td>\n",
       "    </tr>\n",
       "    <tr>\n",
       "      <th>1</th>\n",
       "      <td>ai_questions</td>\n",
       "      <td>Pacman: how do the eyes find their way back to...</td>\n",
       "      <td>/questions/3148435/pacman-how-do-the-eyes-find...</td>\n",
       "      <td>I found a lot of references to the AI of the g...</td>\n",
       "    </tr>\n",
       "    <tr>\n",
       "      <th>2</th>\n",
       "      <td>ai_questions</td>\n",
       "      <td>What is the best Battleship AI?</td>\n",
       "      <td>/questions/1631414/what-is-the-best-battleship-ai</td>\n",
       "      <td>Battleship! Back in 2003 (when I was 17), I co...</td>\n",
       "    </tr>\n",
       "    <tr>\n",
       "      <th>3</th>\n",
       "      <td>ai_questions</td>\n",
       "      <td>source of historical stock data [closed]</td>\n",
       "      <td>/questions/754593/source-of-historical-stock-data</td>\n",
       "      <td>I'm trying to make a stock market simulator (p...</td>\n",
       "    </tr>\n",
       "    <tr>\n",
       "      <th>4</th>\n",
       "      <td>ai_questions</td>\n",
       "      <td>What are good examples of genetic algorithms/g...</td>\n",
       "      <td>/questions/1538235/what-are-good-examples-of-g...</td>\n",
       "      <td>Genetic algorithms (GA) and genetic programmin...</td>\n",
       "    </tr>\n",
       "  </tbody>\n",
       "</table>\n",
       "</div>"
      ],
      "text/plain": [
       "         so_tag                                              title  \\\n",
       "0  ai_questions   What is the optimal algorithm for the game 2048?   \n",
       "1  ai_questions  Pacman: how do the eyes find their way back to...   \n",
       "2  ai_questions                    What is the best Battleship AI?   \n",
       "3  ai_questions           source of historical stock data [closed]   \n",
       "4  ai_questions  What are good examples of genetic algorithms/g...   \n",
       "\n",
       "                                                 url  \\\n",
       "0  /questions/22342854/what-is-the-optimal-algori...   \n",
       "1  /questions/3148435/pacman-how-do-the-eyes-find...   \n",
       "2  /questions/1631414/what-is-the-best-battleship-ai   \n",
       "3  /questions/754593/source-of-historical-stock-data   \n",
       "4  /questions/1538235/what-are-good-examples-of-g...   \n",
       "\n",
       "                                            question  \n",
       "0  I have recently stumbled upon the game 2048. Y...  \n",
       "1  I found a lot of references to the AI of the g...  \n",
       "2  Battleship! Back in 2003 (when I was 17), I co...  \n",
       "3  I'm trying to make a stock market simulator (p...  \n",
       "4  Genetic algorithms (GA) and genetic programmin...  "
      ]
     },
     "execution_count": 98,
     "metadata": {},
     "output_type": "execute_result"
    }
   ],
   "source": [
    "cdf.drop_duplicates(subset=\"url\", keep=False, inplace=True)\n",
    "cdf.reset_index(inplace=True, drop=True)\n",
    "cdf.head()"
   ]
  },
  {
   "cell_type": "markdown",
   "metadata": {},
   "source": [
    "# Tokenization"
   ]
  },
  {
   "cell_type": "code",
   "execution_count": 100,
   "metadata": {},
   "outputs": [],
   "source": [
    "# Regex for removing punctuation\n",
    "re_punc = re.compile(\"[%s]\" % re.escape(string.punctuation))\n",
    "\n",
    "\n",
    "# Tokenize text and join back as one string\n",
    "def tokenize_txt(txt: str):\n",
    "    tok = word_tokenize(txt)\n",
    "    tok = [w.lower() for w in tok]\n",
    "    tok = [re_punc.sub(\"\", w) for w in tok]\n",
    "    tok = [word for word in tok if word.isalpha()]\n",
    "    stop_words = set(stopwords.words(\"english\"))\n",
    "    tok = [w for w in tok if w not in stop_words]\n",
    "    return \" \".join(tok)"
   ]
  },
  {
   "cell_type": "code",
   "execution_count": 101,
   "metadata": {},
   "outputs": [
    {
     "data": {
      "text/plain": [
       "'recently stumbled upon game merge similar tiles moving four directions make bigger tiles move new tile appears random empty position value either game terminates boxes filled moves merge tiles create tile value one need follow welldefined strategy reach goal thought writing program current algorithm point try merge tiles values try tiles minimum possible try way tiles automatically getting merged strategy seems good actually use algorithm get around points game terminates maximum points afaik slightly points way larger current score better algorithm'"
      ]
     },
     "execution_count": 101,
     "metadata": {},
     "output_type": "execute_result"
    }
   ],
   "source": [
    "# Testing the tokenize function\n",
    "tokenize_txt(cdf[\"question\"][0])"
   ]
  },
  {
   "cell_type": "code",
   "execution_count": 111,
   "metadata": {},
   "outputs": [
    {
     "data": {
      "text/html": [
       "<div>\n",
       "<style scoped>\n",
       "    .dataframe tbody tr th:only-of-type {\n",
       "        vertical-align: middle;\n",
       "    }\n",
       "\n",
       "    .dataframe tbody tr th {\n",
       "        vertical-align: top;\n",
       "    }\n",
       "\n",
       "    .dataframe thead th {\n",
       "        text-align: right;\n",
       "    }\n",
       "</style>\n",
       "<table border=\"1\" class=\"dataframe\">\n",
       "  <thead>\n",
       "    <tr style=\"text-align: right;\">\n",
       "      <th></th>\n",
       "      <th>so_tag</th>\n",
       "      <th>title</th>\n",
       "      <th>url</th>\n",
       "      <th>question</th>\n",
       "      <th>cleaned_question</th>\n",
       "      <th>doc_id</th>\n",
       "    </tr>\n",
       "  </thead>\n",
       "  <tbody>\n",
       "    <tr>\n",
       "      <th>0</th>\n",
       "      <td>ai_questions</td>\n",
       "      <td>What is the optimal algorithm for the game 2048?</td>\n",
       "      <td>/questions/22342854/what-is-the-optimal-algori...</td>\n",
       "      <td>I have recently stumbled upon the game 2048. Y...</td>\n",
       "      <td>recently stumbled upon game merge similar tile...</td>\n",
       "      <td>22342854</td>\n",
       "    </tr>\n",
       "    <tr>\n",
       "      <th>1</th>\n",
       "      <td>ai_questions</td>\n",
       "      <td>Pacman: how do the eyes find their way back to...</td>\n",
       "      <td>/questions/3148435/pacman-how-do-the-eyes-find...</td>\n",
       "      <td>I found a lot of references to the AI of the g...</td>\n",
       "      <td>found lot references ai ghosts pacman none men...</td>\n",
       "      <td>3148435</td>\n",
       "    </tr>\n",
       "    <tr>\n",
       "      <th>2</th>\n",
       "      <td>ai_questions</td>\n",
       "      <td>What is the best Battleship AI?</td>\n",
       "      <td>/questions/1631414/what-is-the-best-battleship-ai</td>\n",
       "      <td>Battleship! Back in 2003 (when I was 17), I co...</td>\n",
       "      <td>battleship back competed battleship ai coding ...</td>\n",
       "      <td>1631414</td>\n",
       "    </tr>\n",
       "    <tr>\n",
       "      <th>3</th>\n",
       "      <td>ai_questions</td>\n",
       "      <td>source of historical stock data [closed]</td>\n",
       "      <td>/questions/754593/source-of-historical-stock-data</td>\n",
       "      <td>I'm trying to make a stock market simulator (p...</td>\n",
       "      <td>trying make stock market simulator perhaps eve...</td>\n",
       "      <td>754593</td>\n",
       "    </tr>\n",
       "    <tr>\n",
       "      <th>4</th>\n",
       "      <td>ai_questions</td>\n",
       "      <td>What are good examples of genetic algorithms/g...</td>\n",
       "      <td>/questions/1538235/what-are-good-examples-of-g...</td>\n",
       "      <td>Genetic algorithms (GA) and genetic programmin...</td>\n",
       "      <td>genetic algorithms ga genetic programming gp i...</td>\n",
       "      <td>1538235</td>\n",
       "    </tr>\n",
       "  </tbody>\n",
       "</table>\n",
       "</div>"
      ],
      "text/plain": [
       "         so_tag                                              title  \\\n",
       "0  ai_questions   What is the optimal algorithm for the game 2048?   \n",
       "1  ai_questions  Pacman: how do the eyes find their way back to...   \n",
       "2  ai_questions                    What is the best Battleship AI?   \n",
       "3  ai_questions           source of historical stock data [closed]   \n",
       "4  ai_questions  What are good examples of genetic algorithms/g...   \n",
       "\n",
       "                                                 url  \\\n",
       "0  /questions/22342854/what-is-the-optimal-algori...   \n",
       "1  /questions/3148435/pacman-how-do-the-eyes-find...   \n",
       "2  /questions/1631414/what-is-the-best-battleship-ai   \n",
       "3  /questions/754593/source-of-historical-stock-data   \n",
       "4  /questions/1538235/what-are-good-examples-of-g...   \n",
       "\n",
       "                                            question  \\\n",
       "0  I have recently stumbled upon the game 2048. Y...   \n",
       "1  I found a lot of references to the AI of the g...   \n",
       "2  Battleship! Back in 2003 (when I was 17), I co...   \n",
       "3  I'm trying to make a stock market simulator (p...   \n",
       "4  Genetic algorithms (GA) and genetic programmin...   \n",
       "\n",
       "                                    cleaned_question    doc_id  \n",
       "0  recently stumbled upon game merge similar tile...  22342854  \n",
       "1  found lot references ai ghosts pacman none men...   3148435  \n",
       "2  battleship back competed battleship ai coding ...   1631414  \n",
       "3  trying make stock market simulator perhaps eve...    754593  \n",
       "4  genetic algorithms ga genetic programming gp i...   1538235  "
      ]
     },
     "execution_count": 111,
     "metadata": {},
     "output_type": "execute_result"
    }
   ],
   "source": [
    "# Tokenize questions\n",
    "cdf[\"cleaned_question\"] = cdf[\"question\"].apply(tokenize_txt)\n",
    "\n",
    "# Create document id based on unique numeric value from URL field\n",
    "cdf[\"doc_id\"] = cdf.apply(lambda r: r[\"url\"].split(\"/\")[2], axis=1)\n",
    "cdf.head()"
   ]
  },
  {
   "cell_type": "code",
   "execution_count": 112,
   "metadata": {},
   "outputs": [],
   "source": [
    "# Write cleaned corpus to disk\n",
    "cdf.to_csv(\"cleaned_corpus.csv\")"
   ]
  },
  {
   "cell_type": "markdown",
   "metadata": {},
   "source": [
    "## Train - Test Split"
   ]
  },
  {
   "cell_type": "code",
   "execution_count": 163,
   "metadata": {},
   "outputs": [
    {
     "name": "stdout",
     "output_type": "stream",
     "text": [
      "x-train = (919, 2)\n",
      "x-test = (394, 2)\n",
      "y-train = 919\n",
      "y-test = 394\n"
     ]
    }
   ],
   "source": [
    "# Separate the labels and drop unnecessary columns\n",
    "x_data = cdf[[\"doc_id\", \"cleaned_question\"]]\n",
    "y_data = cdf[\"so_tag\"]\n",
    "\n",
    "# Train Test Split\n",
    "x_train, x_test, y_train, y_test = train_test_split(x_data, y_data, test_size=0.30, random_state=SET_RANDOM)\n",
    "\n",
    "# Validate the splits\n",
    "print(\"x-train = {}\".format(x_train.shape))\n",
    "print(\"x-test = {}\".format(x_test.shape))\n",
    "print(\"y-train = {}\".format(len(y_train)))\n",
    "print(\"y-test = {}\".format(len(y_test)))"
   ]
  },
  {
   "cell_type": "markdown",
   "metadata": {},
   "source": [
    "# TF-IDF  \n",
    "\n",
    "## Fit the TF-IDF Vectorizer & Transform Corpus"
   ]
  },
  {
   "cell_type": "code",
   "execution_count": 164,
   "metadata": {},
   "outputs": [],
   "source": [
    "# Instantiate TFIDF Vectorizer & fit to cleaned docs\n",
    "tfidf_vect = TfidfVectorizer(ngram_range=(1, MAX_NGRAM_LENGTH), max_features=VECTOR_LENGTH)\n",
    "\n",
    "# Run fit & transform\n",
    "tfidf_vector = tfidf_vect.fit_transform(x_train[\"cleaned_question\"])\n",
    "\n",
    "# Run Transform on test data\n",
    "tfidf_test_vector = tfidf_vect.transform(x_test[\"cleaned_question\"])"
   ]
  },
  {
   "cell_type": "code",
   "execution_count": 165,
   "metadata": {},
   "outputs": [
    {
     "name": "stdout",
     "output_type": "stream",
     "text": [
      "Train tfidf vector shape = (919, 2000)\n",
      "Test tfidf vector shape = (394, 2000)\n"
     ]
    }
   ],
   "source": [
    "print(\"Train tfidf vector shape = {}\".format(tfidf_vector.shape))\n",
    "print(\"Test tfidf vector shape = {}\".format(tfidf_test_vector.shape))"
   ]
  },
  {
   "cell_type": "markdown",
   "metadata": {},
   "source": [
    "## Random Forest Classifier  \n",
    "Fit a Random Forest Classifier utilizing the TF-IDF document vectors as predictors."
   ]
  },
  {
   "cell_type": "code",
   "execution_count": 172,
   "metadata": {},
   "outputs": [
    {
     "data": {
      "image/png": "[encoded data removed]",
      "text/plain": [
       "<Figure size 432x288 with 2 Axes>"
      ]
     },
     "metadata": {
      "needs_background": "light"
     },
     "output_type": "display_data"
    },
    {
     "data": {
      "text/plain": [
       "<matplotlib.axes._subplots.AxesSubplot at 0x14f0cc8d0>"
      ]
     },
     "execution_count": 172,
     "metadata": {},
     "output_type": "execute_result"
    }
   ],
   "source": [
    "# Instantiate Model\n",
    "tfidf_clf = RandomForestClassifier(\n",
    "    n_estimators=100, max_depth=10, random_state=SET_RANDOM, n_jobs=-1\n",
    ")\n",
    "\n",
    "viz_report = ClassificationReport(tfidf_clf, classes=collections)\n",
    "viz_report.fit(tfidf_vector, y_train)\n",
    "viz_report.score(tfidf_test_vector, y_test)\n",
    "viz_report.show()"
   ]
  },
  {
   "cell_type": "code",
   "execution_count": 171,
   "metadata": {},
   "outputs": [
    {
     "data": {
      "image/png": "[encoded data removed]",
      "text/plain": [
       "<Figure size 432x288 with 1 Axes>"
      ]
     },
     "metadata": {
      "needs_background": "light"
     },
     "output_type": "display_data"
    },
    {
     "data": {
      "text/plain": [
       "<matplotlib.axes._subplots.AxesSubplot at 0x14f0e0320>"
      ]
     },
     "execution_count": 171,
     "metadata": {},
     "output_type": "execute_result"
    }
   ],
   "source": [
    "cm = ConfusionMatrix(tfidf_clf, classes=collections)\n",
    "cm.fit(tfidf_vector, y_train)\n",
    "cm.score(tfidf_test_vector, y_test)\n",
    "cm.show()"
   ]
  },
  {
   "cell_type": "markdown",
   "metadata": {},
   "source": [
    "# Doc2Vec\n",
    "Document Embeddings will be built utilizing the gensim library."
   ]
  },
  {
   "cell_type": "code",
   "execution_count": 182,
   "metadata": {},
   "outputs": [],
   "source": [
    "# Create list of words from document\n",
    "def create_gensim_tagged_doc(df: pd.DataFrame) -> list:\n",
    "    tokens = [doc.split() for doc in df[\"cleaned_question\"]]\n",
    "    return tokens, [TaggedDocument(doc, [i]) for i, doc in enumerate(tokens)]"
   ]
  },
  {
   "cell_type": "code",
   "execution_count": 183,
   "metadata": {},
   "outputs": [],
   "source": [
    "train_tokens, train_corp = create_gensim_tagged_doc(x_train)\n",
    "test_tokens, test_corp = create_gensim_tagged_doc(x_test)"
   ]
  },
  {
   "cell_type": "code",
   "execution_count": 184,
   "metadata": {},
   "outputs": [],
   "source": [
    "model_50 = Doc2Vec(\n",
    "    train_corp, vector_size=50, min_count=2, epochs=50, seed=SET_RANDOM\n",
    ")"
   ]
  },
  {
   "cell_type": "code",
   "execution_count": 185,
   "metadata": {},
   "outputs": [],
   "source": [
    "model_50.train(\n",
    "    train_corp, total_examples=model_50.corpus_count, epochs=model_50.epochs\n",
    ")"
   ]
  },
  {
   "cell_type": "code",
   "execution_count": 188,
   "metadata": {},
   "outputs": [],
   "source": [
    "# Train\n",
    "model_50_vectors = np.zeros((len(train_tokens), 50))\n",
    "for i in range(0, len(train_tokens)):\n",
    "    model_50_vectors[i, ] = model_50.infer_vector(train_tokens[i]).transpose()\n",
    "\n",
    "# Test\n",
    "model_50_vectors_test = np.zeros((len(test_tokens), 50))\n",
    "for i in range(0, len(test_tokens)):\n",
    "    model_50_vectors_test[i, ] = model_50.infer_vector(test_tokens[i]).transpose()"
   ]
  },
  {
   "cell_type": "code",
   "execution_count": 190,
   "metadata": {},
   "outputs": [
    {
     "name": "stdout",
     "output_type": "stream",
     "text": [
      "Doc2Vec training shape = (919, 50)\n",
      "Doc2Vec testing shape = (394, 50)\n"
     ]
    }
   ],
   "source": [
    "print(\"Doc2Vec training shape = {}\".format(model_50_vectors.shape))\n",
    "print(\"Doc2Vec testing shape = {}\".format(model_50_vectors_test.shape))"
   ]
  },
  {
   "cell_type": "code",
   "execution_count": 191,
   "metadata": {},
   "outputs": [
    {
     "data": {
      "image/png": "[encoded data removed]",
      "text/plain": [
       "<Figure size 432x288 with 2 Axes>"
      ]
     },
     "metadata": {
      "needs_background": "light"
     },
     "output_type": "display_data"
    },
    {
     "data": {
      "text/plain": [
       "<matplotlib.axes._subplots.AxesSubplot at 0x1297566d8>"
      ]
     },
     "execution_count": 191,
     "metadata": {},
     "output_type": "execute_result"
    }
   ],
   "source": [
    "# Instantiate Model\n",
    "d2v50_clf = RandomForestClassifier(\n",
    "    n_estimators=100, max_depth=10, random_state=SET_RANDOM, n_jobs=-1\n",
    ")\n",
    "\n",
    "viz_report_d2v50 = ClassificationReport(d2v50_clf, classes=collections)\n",
    "viz_report_d2v50.fit(model_50_vectors, y_train)\n",
    "viz_report_d2v50.score(model_50_vectors_test, y_test)\n",
    "viz_report_d2v50.show()"
   ]
  },
  {
   "cell_type": "code",
   "execution_count": 192,
   "metadata": {},
   "outputs": [
    {
     "data": {
      "image/png": "[encoded data removed]",
      "text/plain": [
       "<Figure size 432x288 with 1 Axes>"
      ]
     },
     "metadata": {
      "needs_background": "light"
     },
     "output_type": "display_data"
    },
    {
     "data": {
      "text/plain": [
       "<matplotlib.axes._subplots.AxesSubplot at 0x174eef8d0>"
      ]
     },
     "execution_count": 192,
     "metadata": {},
     "output_type": "execute_result"
    }
   ],
   "source": [
    "cm_d2v50 = ConfusionMatrix(d2v50_clf, classes=collections)\n",
    "cm_d2v50.fit(model_50_vectors, y_train)\n",
    "cm_d2v50.score(model_50_vectors_test, y_test)\n",
    "cm_d2v50.show()"
   ]
  },
  {
   "cell_type": "code",
   "execution_count": null,
   "metadata": {},
   "outputs": [],
   "source": []
  }
 ],
 "metadata": {
  "kernelspec": {
   "display_name": "stack-nlp",
   "language": "python",
   "name": "stack-nlp"
  },
  "language_info": {
   "codemirror_mode": {
    "name": "ipython",
    "version": 3
   },
   "file_extension": ".py",
   "mimetype": "text/x-python",
   "name": "python",
   "nbconvert_exporter": "python",
   "pygments_lexer": "ipython3",
   "version": "3.7.3"
  }
 },
 "nbformat": 4,
 "nbformat_minor": 4
}
